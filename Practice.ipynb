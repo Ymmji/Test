{
 "cells": [
  {
   "cell_type": "code",
   "execution_count": 22,
   "id": "ed1f8430",
   "metadata": {},
   "outputs": [],
   "source": [
    "import pandas as pd\n",
    "import numpy as np"
   ]
  },
  {
   "cell_type": "code",
   "execution_count": 23,
   "id": "74eec39e",
   "metadata": {},
   "outputs": [
    {
     "data": {
      "text/plain": [
       "0     5\n",
       "1     6\n",
       "2     7\n",
       "3     8\n",
       "4     9\n",
       "5    10\n",
       "dtype: int64"
      ]
     },
     "execution_count": 23,
     "metadata": {},
     "output_type": "execute_result"
    }
   ],
   "source": [
    "num = pd.Series([5,6,7,8,9,10])\n",
    "num"
   ]
  },
  {
   "cell_type": "code",
   "execution_count": 24,
   "id": "14411e5b",
   "metadata": {},
   "outputs": [
    {
     "data": {
      "text/plain": [
       "0     5\n",
       "1     6\n",
       "2     7\n",
       "3     8\n",
       "4     9\n",
       "5    10\n",
       "Name: Numbers, dtype: int64"
      ]
     },
     "execution_count": 24,
     "metadata": {},
     "output_type": "execute_result"
    }
   ],
   "source": [
    "num = pd.Series([5,6,7,8,9,10], name = \"Numbers\") #needs \"name\", doesn't work without it\n",
    "num"
   ]
  },
  {
   "cell_type": "code",
   "execution_count": 25,
   "id": "b6e26593",
   "metadata": {},
   "outputs": [
    {
     "data": {
      "text/plain": [
       "pandas.core.series.Series"
      ]
     },
     "execution_count": 25,
     "metadata": {},
     "output_type": "execute_result"
    }
   ],
   "source": [
    "type(num)"
   ]
  },
  {
   "cell_type": "code",
   "execution_count": 26,
   "id": "ce4c24a6",
   "metadata": {},
   "outputs": [
    {
     "data": {
      "text/plain": [
       "RangeIndex(start=0, stop=6, step=1)"
      ]
     },
     "execution_count": 26,
     "metadata": {},
     "output_type": "execute_result"
    }
   ],
   "source": [
    "num.index"
   ]
  },
  {
   "cell_type": "code",
   "execution_count": 27,
   "id": "f15b01f5",
   "metadata": {},
   "outputs": [
    {
     "data": {
      "text/plain": [
       "array([ 5,  6,  7,  8,  9, 10])"
      ]
     },
     "execution_count": 27,
     "metadata": {},
     "output_type": "execute_result"
    }
   ],
   "source": [
    "num.values"
   ]
  },
  {
   "cell_type": "code",
   "execution_count": 28,
   "id": "0ac325da",
   "metadata": {},
   "outputs": [
    {
     "data": {
      "text/plain": [
       "7"
      ]
     },
     "execution_count": 28,
     "metadata": {},
     "output_type": "execute_result"
    }
   ],
   "source": [
    "num[2] #indexing"
   ]
  },
  {
   "cell_type": "code",
   "execution_count": 29,
   "id": "d2df15b8",
   "metadata": {},
   "outputs": [
    {
     "data": {
      "text/plain": [
       "Cookies       6000\n",
       "Bananas       5000\n",
       "Chocolate    45000\n",
       "Candy        23000\n",
       "Soup           500\n",
       "Gummies       2000\n",
       "Oranges      10000\n",
       "dtype: int64"
      ]
     },
     "execution_count": 29,
     "metadata": {},
     "output_type": "execute_result"
    }
   ],
   "source": [
    "# Explicitly defined Indexing\n",
    "\n",
    "sale = pd.Series([6000, 5000, 45000, 23000, 500, 2000,10000], index = ['Cookies', 'Bananas', 'Chocolate', 'Candy', 'Soup', 'Gummies', 'Oranges'])\n",
    "\n",
    "sale"
   ]
  },
  {
   "cell_type": "code",
   "execution_count": 30,
   "id": "b70e960b",
   "metadata": {},
   "outputs": [
    {
     "data": {
      "text/plain": [
       "Index(['Cookies', 'Bananas', 'Chocolate', 'Candy', 'Soup', 'Gummies',\n",
       "       'Oranges'],\n",
       "      dtype='object')"
      ]
     },
     "execution_count": 30,
     "metadata": {},
     "output_type": "execute_result"
    }
   ],
   "source": [
    "sale.index"
   ]
  },
  {
   "cell_type": "code",
   "execution_count": 31,
   "id": "f74e2b18",
   "metadata": {},
   "outputs": [
    {
     "data": {
      "text/plain": [
       "45000"
      ]
     },
     "execution_count": 31,
     "metadata": {},
     "output_type": "execute_result"
    }
   ],
   "source": [
    "sale[2]"
   ]
  },
  {
   "cell_type": "code",
   "execution_count": 32,
   "id": "24d8d7fa",
   "metadata": {},
   "outputs": [
    {
     "data": {
      "text/plain": [
       "45000"
      ]
     },
     "execution_count": 32,
     "metadata": {},
     "output_type": "execute_result"
    }
   ],
   "source": [
    "sale['Chocolate']"
   ]
  },
  {
   "cell_type": "code",
   "execution_count": 33,
   "id": "0b3af1af",
   "metadata": {},
   "outputs": [],
   "source": [
    "sale['Chocolate'] = 50000"
   ]
  },
  {
   "cell_type": "code",
   "execution_count": 34,
   "id": "9262448d",
   "metadata": {},
   "outputs": [
    {
     "data": {
      "text/plain": [
       "Cookies       6000\n",
       "Bananas       5000\n",
       "Chocolate    50000\n",
       "Candy        23000\n",
       "Soup           500\n",
       "Gummies       2000\n",
       "Oranges      10000\n",
       "dtype: int64"
      ]
     },
     "execution_count": 34,
     "metadata": {},
     "output_type": "execute_result"
    }
   ],
   "source": [
    "sale"
   ]
  },
  {
   "cell_type": "code",
   "execution_count": 35,
   "id": "8b68c8d5",
   "metadata": {},
   "outputs": [
    {
     "data": {
      "text/plain": [
       "50000"
      ]
     },
     "execution_count": 35,
     "metadata": {},
     "output_type": "execute_result"
    }
   ],
   "source": [
    "sale.Chocolate"
   ]
  },
  {
   "cell_type": "code",
   "execution_count": 36,
   "id": "244305f8",
   "metadata": {},
   "outputs": [],
   "source": [
    "# sale['Chocolate'] and sale.Chocolate have what difference?"
   ]
  },
  {
   "cell_type": "code",
   "execution_count": 37,
   "id": "0c5713fc",
   "metadata": {},
   "outputs": [
    {
     "data": {
      "text/plain": [
       "Cookies      False\n",
       "Bananas      False\n",
       "Chocolate     True\n",
       "Candy         True\n",
       "Soup         False\n",
       "Gummies      False\n",
       "Oranges      False\n",
       "dtype: bool"
      ]
     },
     "execution_count": 37,
     "metadata": {},
     "output_type": "execute_result"
    }
   ],
   "source": [
    "filter = sale >= 20000\n",
    "filter"
   ]
  },
  {
   "cell_type": "code",
   "execution_count": 38,
   "id": "005a9076",
   "metadata": {},
   "outputs": [
    {
     "data": {
      "text/plain": [
       "Chocolate    50000\n",
       "Candy        23000\n",
       "dtype: int64"
      ]
     },
     "execution_count": 38,
     "metadata": {},
     "output_type": "execute_result"
    }
   ],
   "source": [
    "sale[filter] #ok for variables"
   ]
  },
  {
   "cell_type": "code",
   "execution_count": 39,
   "id": "5f82aa98",
   "metadata": {},
   "outputs": [
    {
     "data": {
      "text/plain": [
       "False"
      ]
     },
     "execution_count": 39,
     "metadata": {},
     "output_type": "execute_result"
    }
   ],
   "source": [
    "\"Mochi\" in sale"
   ]
  },
  {
   "cell_type": "code",
   "execution_count": 40,
   "id": "c2a8f1b5",
   "metadata": {},
   "outputs": [
    {
     "data": {
      "text/plain": [
       "True"
      ]
     },
     "execution_count": 40,
     "metadata": {},
     "output_type": "execute_result"
    }
   ],
   "source": [
    "\"Cookies\" in sale"
   ]
  },
  {
   "cell_type": "code",
   "execution_count": 43,
   "id": "213c0cb7",
   "metadata": {},
   "outputs": [
    {
     "data": {
      "text/plain": [
       "Index(['Cookies', 'Bananas', 'Chocolate', 'Candy', 'Soup', 'Gummies',\n",
       "       'Oranges'],\n",
       "      dtype='object')"
      ]
     },
     "execution_count": 43,
     "metadata": {},
     "output_type": "execute_result"
    }
   ],
   "source": [
    "sale.index"
   ]
  },
  {
   "cell_type": "code",
   "execution_count": 44,
   "id": "7e7c5fa0",
   "metadata": {},
   "outputs": [
    {
     "data": {
      "text/plain": [
       "pandas.core.series.Series"
      ]
     },
     "execution_count": 44,
     "metadata": {},
     "output_type": "execute_result"
    }
   ],
   "source": [
    "type(sale)"
   ]
  },
  {
   "cell_type": "code",
   "execution_count": null,
   "id": "b3ba8f8a",
   "metadata": {},
   "outputs": [],
   "source": [
    "# Create a filter to filter data, use original series name followed by the filter Og_name[filter]"
   ]
  },
  {
   "cell_type": "code",
   "execution_count": 21,
   "id": "fd199342",
   "metadata": {},
   "outputs": [],
   "source": [
    "## SERIES - each element must have a unique index, name, values"
   ]
  },
  {
   "cell_type": "code",
   "execution_count": null,
   "id": "37bcb65c",
   "metadata": {},
   "outputs": [],
   "source": [
    "## A dataframe is a collection of series"
   ]
  },
  {
   "cell_type": "code",
   "execution_count": 45,
   "id": "4eaccb31",
   "metadata": {},
   "outputs": [
    {
     "data": {
      "text/plain": [
       "{'state': ['California', 'Ohio', 'New York', 'Texas', 'Washington'],\n",
       " 'year': [2000, 2001, 2002, 2001, 2002],\n",
       " 'pop': [1.5, 1.7, 3.6, 2.4, 2.9]}"
      ]
     },
     "execution_count": 45,
     "metadata": {},
     "output_type": "execute_result"
    }
   ],
   "source": [
    "data = {'state': ['California','Ohio','New York','Texas','Washington'],\n",
    "        'year':[2000, 2001, 2002, 2001, 2002],\n",
    "        'pop': [1.5, 1.7, 3.6, 2.4, 2.9]}\n",
    "data"
   ]
  },
  {
   "cell_type": "code",
   "execution_count": 47,
   "id": "e35df2de",
   "metadata": {},
   "outputs": [
    {
     "data": {
      "text/html": [
       "<div>\n",
       "<style scoped>\n",
       "    .dataframe tbody tr th:only-of-type {\n",
       "        vertical-align: middle;\n",
       "    }\n",
       "\n",
       "    .dataframe tbody tr th {\n",
       "        vertical-align: top;\n",
       "    }\n",
       "\n",
       "    .dataframe thead th {\n",
       "        text-align: right;\n",
       "    }\n",
       "</style>\n",
       "<table border=\"1\" class=\"dataframe\">\n",
       "  <thead>\n",
       "    <tr style=\"text-align: right;\">\n",
       "      <th></th>\n",
       "      <th>state</th>\n",
       "      <th>year</th>\n",
       "      <th>pop</th>\n",
       "    </tr>\n",
       "  </thead>\n",
       "  <tbody>\n",
       "    <tr>\n",
       "      <th>0</th>\n",
       "      <td>California</td>\n",
       "      <td>2000</td>\n",
       "      <td>1.5</td>\n",
       "    </tr>\n",
       "    <tr>\n",
       "      <th>1</th>\n",
       "      <td>Ohio</td>\n",
       "      <td>2001</td>\n",
       "      <td>1.7</td>\n",
       "    </tr>\n",
       "    <tr>\n",
       "      <th>2</th>\n",
       "      <td>New York</td>\n",
       "      <td>2002</td>\n",
       "      <td>3.6</td>\n",
       "    </tr>\n",
       "    <tr>\n",
       "      <th>3</th>\n",
       "      <td>Texas</td>\n",
       "      <td>2001</td>\n",
       "      <td>2.4</td>\n",
       "    </tr>\n",
       "    <tr>\n",
       "      <th>4</th>\n",
       "      <td>Washington</td>\n",
       "      <td>2002</td>\n",
       "      <td>2.9</td>\n",
       "    </tr>\n",
       "  </tbody>\n",
       "</table>\n",
       "</div>"
      ],
      "text/plain": [
       "        state  year  pop\n",
       "0  California  2000  1.5\n",
       "1        Ohio  2001  1.7\n",
       "2    New York  2002  3.6\n",
       "3       Texas  2001  2.4\n",
       "4  Washington  2002  2.9"
      ]
     },
     "execution_count": 47,
     "metadata": {},
     "output_type": "execute_result"
    }
   ],
   "source": [
    "a = pd.DataFrame(data)\n",
    "a"
   ]
  },
  {
   "cell_type": "code",
   "execution_count": 48,
   "id": "c63f8875",
   "metadata": {},
   "outputs": [
    {
     "data": {
      "text/plain": [
       "pandas.core.frame.DataFrame"
      ]
     },
     "execution_count": 48,
     "metadata": {},
     "output_type": "execute_result"
    }
   ],
   "source": [
    "type(a)"
   ]
  },
  {
   "cell_type": "code",
   "execution_count": 49,
   "id": "e8adffbc",
   "metadata": {},
   "outputs": [
    {
     "data": {
      "text/plain": [
       "Index(['state', 'year', 'pop'], dtype='object')"
      ]
     },
     "execution_count": 49,
     "metadata": {},
     "output_type": "execute_result"
    }
   ],
   "source": [
    "a.columns"
   ]
  },
  {
   "cell_type": "code",
   "execution_count": 51,
   "id": "bf5d2a1e",
   "metadata": {},
   "outputs": [
    {
     "data": {
      "text/plain": [
       "RangeIndex(start=0, stop=5, step=1)"
      ]
     },
     "execution_count": 51,
     "metadata": {},
     "output_type": "execute_result"
    }
   ],
   "source": [
    "a.index"
   ]
  },
  {
   "cell_type": "code",
   "execution_count": 52,
   "id": "11b202b0",
   "metadata": {},
   "outputs": [
    {
     "name": "stdout",
     "output_type": "stream",
     "text": [
      "<class 'pandas.core.frame.DataFrame'>\n",
      "RangeIndex: 5 entries, 0 to 4\n",
      "Data columns (total 3 columns):\n",
      " #   Column  Non-Null Count  Dtype  \n",
      "---  ------  --------------  -----  \n",
      " 0   state   5 non-null      object \n",
      " 1   year    5 non-null      int64  \n",
      " 2   pop     5 non-null      float64\n",
      "dtypes: float64(1), int64(1), object(1)\n",
      "memory usage: 248.0+ bytes\n"
     ]
    }
   ],
   "source": [
    "a.info()"
   ]
  },
  {
   "cell_type": "code",
   "execution_count": 54,
   "id": "d11bf8ca",
   "metadata": {},
   "outputs": [
    {
     "data": {
      "text/html": [
       "<div>\n",
       "<style scoped>\n",
       "    .dataframe tbody tr th:only-of-type {\n",
       "        vertical-align: middle;\n",
       "    }\n",
       "\n",
       "    .dataframe tbody tr th {\n",
       "        vertical-align: top;\n",
       "    }\n",
       "\n",
       "    .dataframe thead th {\n",
       "        text-align: right;\n",
       "    }\n",
       "</style>\n",
       "<table border=\"1\" class=\"dataframe\">\n",
       "  <thead>\n",
       "    <tr style=\"text-align: right;\">\n",
       "      <th></th>\n",
       "      <th>year</th>\n",
       "      <th>pop</th>\n",
       "    </tr>\n",
       "  </thead>\n",
       "  <tbody>\n",
       "    <tr>\n",
       "      <th>count</th>\n",
       "      <td>5.00000</td>\n",
       "      <td>5.000000</td>\n",
       "    </tr>\n",
       "    <tr>\n",
       "      <th>mean</th>\n",
       "      <td>2001.20000</td>\n",
       "      <td>2.420000</td>\n",
       "    </tr>\n",
       "    <tr>\n",
       "      <th>std</th>\n",
       "      <td>0.83666</td>\n",
       "      <td>0.864292</td>\n",
       "    </tr>\n",
       "    <tr>\n",
       "      <th>min</th>\n",
       "      <td>2000.00000</td>\n",
       "      <td>1.500000</td>\n",
       "    </tr>\n",
       "    <tr>\n",
       "      <th>25%</th>\n",
       "      <td>2001.00000</td>\n",
       "      <td>1.700000</td>\n",
       "    </tr>\n",
       "    <tr>\n",
       "      <th>50%</th>\n",
       "      <td>2001.00000</td>\n",
       "      <td>2.400000</td>\n",
       "    </tr>\n",
       "    <tr>\n",
       "      <th>75%</th>\n",
       "      <td>2002.00000</td>\n",
       "      <td>2.900000</td>\n",
       "    </tr>\n",
       "    <tr>\n",
       "      <th>max</th>\n",
       "      <td>2002.00000</td>\n",
       "      <td>3.600000</td>\n",
       "    </tr>\n",
       "  </tbody>\n",
       "</table>\n",
       "</div>"
      ],
      "text/plain": [
       "             year       pop\n",
       "count     5.00000  5.000000\n",
       "mean   2001.20000  2.420000\n",
       "std       0.83666  0.864292\n",
       "min    2000.00000  1.500000\n",
       "25%    2001.00000  1.700000\n",
       "50%    2001.00000  2.400000\n",
       "75%    2002.00000  2.900000\n",
       "max    2002.00000  3.600000"
      ]
     },
     "execution_count": 54,
     "metadata": {},
     "output_type": "execute_result"
    }
   ],
   "source": [
    "a.describe()"
   ]
  },
  {
   "cell_type": "code",
   "execution_count": 55,
   "id": "4c771639",
   "metadata": {},
   "outputs": [],
   "source": [
    "## Select df column, using [] or ."
   ]
  },
  {
   "cell_type": "code",
   "execution_count": 56,
   "id": "889e80d6",
   "metadata": {},
   "outputs": [
    {
     "data": {
      "text/html": [
       "<div>\n",
       "<style scoped>\n",
       "    .dataframe tbody tr th:only-of-type {\n",
       "        vertical-align: middle;\n",
       "    }\n",
       "\n",
       "    .dataframe tbody tr th {\n",
       "        vertical-align: top;\n",
       "    }\n",
       "\n",
       "    .dataframe thead th {\n",
       "        text-align: right;\n",
       "    }\n",
       "</style>\n",
       "<table border=\"1\" class=\"dataframe\">\n",
       "  <thead>\n",
       "    <tr style=\"text-align: right;\">\n",
       "      <th></th>\n",
       "      <th>state</th>\n",
       "      <th>year</th>\n",
       "      <th>pop</th>\n",
       "    </tr>\n",
       "  </thead>\n",
       "  <tbody>\n",
       "    <tr>\n",
       "      <th>0</th>\n",
       "      <td>California</td>\n",
       "      <td>2000</td>\n",
       "      <td>1.5</td>\n",
       "    </tr>\n",
       "    <tr>\n",
       "      <th>1</th>\n",
       "      <td>Ohio</td>\n",
       "      <td>2001</td>\n",
       "      <td>1.7</td>\n",
       "    </tr>\n",
       "    <tr>\n",
       "      <th>2</th>\n",
       "      <td>New York</td>\n",
       "      <td>2002</td>\n",
       "      <td>3.6</td>\n",
       "    </tr>\n",
       "    <tr>\n",
       "      <th>3</th>\n",
       "      <td>Texas</td>\n",
       "      <td>2001</td>\n",
       "      <td>2.4</td>\n",
       "    </tr>\n",
       "    <tr>\n",
       "      <th>4</th>\n",
       "      <td>Washington</td>\n",
       "      <td>2002</td>\n",
       "      <td>2.9</td>\n",
       "    </tr>\n",
       "  </tbody>\n",
       "</table>\n",
       "</div>"
      ],
      "text/plain": [
       "        state  year  pop\n",
       "0  California  2000  1.5\n",
       "1        Ohio  2001  1.7\n",
       "2    New York  2002  3.6\n",
       "3       Texas  2001  2.4\n",
       "4  Washington  2002  2.9"
      ]
     },
     "execution_count": 56,
     "metadata": {},
     "output_type": "execute_result"
    }
   ],
   "source": [
    "a"
   ]
  },
  {
   "cell_type": "code",
   "execution_count": 57,
   "id": "a98a0fc0",
   "metadata": {},
   "outputs": [
    {
     "data": {
      "text/plain": [
       "0    California\n",
       "1          Ohio\n",
       "2      New York\n",
       "3         Texas\n",
       "4    Washington\n",
       "Name: state, dtype: object"
      ]
     },
     "execution_count": 57,
     "metadata": {},
     "output_type": "execute_result"
    }
   ],
   "source": [
    "a['state']"
   ]
  },
  {
   "cell_type": "code",
   "execution_count": 58,
   "id": "5edb80a3",
   "metadata": {},
   "outputs": [
    {
     "data": {
      "text/plain": [
       "0    2000\n",
       "1    2001\n",
       "2    2002\n",
       "3    2001\n",
       "4    2002\n",
       "Name: year, dtype: int64"
      ]
     },
     "execution_count": 58,
     "metadata": {},
     "output_type": "execute_result"
    }
   ],
   "source": [
    "a['year']"
   ]
  },
  {
   "cell_type": "code",
   "execution_count": 59,
   "id": "6e5b2579",
   "metadata": {},
   "outputs": [
    {
     "data": {
      "text/plain": [
       "0    California\n",
       "1          Ohio\n",
       "2      New York\n",
       "3         Texas\n",
       "4    Washington\n",
       "Name: state, dtype: object"
      ]
     },
     "execution_count": 59,
     "metadata": {},
     "output_type": "execute_result"
    }
   ],
   "source": [
    "a.state"
   ]
  },
  {
   "cell_type": "code",
   "execution_count": 60,
   "id": "e474d4dd",
   "metadata": {},
   "outputs": [],
   "source": [
    "# Loading data"
   ]
  },
  {
   "cell_type": "code",
   "execution_count": 63,
   "id": "350c1e4e",
   "metadata": {},
   "outputs": [
    {
     "data": {
      "text/html": [
       "<div>\n",
       "<style scoped>\n",
       "    .dataframe tbody tr th:only-of-type {\n",
       "        vertical-align: middle;\n",
       "    }\n",
       "\n",
       "    .dataframe tbody tr th {\n",
       "        vertical-align: top;\n",
       "    }\n",
       "\n",
       "    .dataframe thead th {\n",
       "        text-align: right;\n",
       "    }\n",
       "</style>\n",
       "<table border=\"1\" class=\"dataframe\">\n",
       "  <thead>\n",
       "    <tr style=\"text-align: right;\">\n",
       "      <th></th>\n",
       "      <th>RANK</th>\n",
       "      <th>NAME</th>\n",
       "      <th>CITY</th>\n",
       "      <th>COMPLETION</th>\n",
       "      <th>Meters</th>\n",
       "      <th>FLOORS</th>\n",
       "      <th>MATERIAL</th>\n",
       "      <th>FUNCTION</th>\n",
       "    </tr>\n",
       "  </thead>\n",
       "  <tbody>\n",
       "    <tr>\n",
       "      <th>0</th>\n",
       "      <td>1</td>\n",
       "      <td>Burj Khalifa</td>\n",
       "      <td>Dubai</td>\n",
       "      <td>2010</td>\n",
       "      <td>828 m</td>\n",
       "      <td>163.0</td>\n",
       "      <td>steel/concrete</td>\n",
       "      <td>office / residential / hotel</td>\n",
       "    </tr>\n",
       "    <tr>\n",
       "      <th>1</th>\n",
       "      <td>2</td>\n",
       "      <td>Shanghai Tower</td>\n",
       "      <td>Shanghai</td>\n",
       "      <td>2015</td>\n",
       "      <td>632 m</td>\n",
       "      <td>128.0</td>\n",
       "      <td>composite</td>\n",
       "      <td>hotel / office</td>\n",
       "    </tr>\n",
       "    <tr>\n",
       "      <th>2</th>\n",
       "      <td>3</td>\n",
       "      <td>Makkah Royal Clock Tower</td>\n",
       "      <td>Mecca</td>\n",
       "      <td>2012</td>\n",
       "      <td>601 m</td>\n",
       "      <td>120.0</td>\n",
       "      <td>steel/concrete</td>\n",
       "      <td>other / hotel</td>\n",
       "    </tr>\n",
       "    <tr>\n",
       "      <th>3</th>\n",
       "      <td>4</td>\n",
       "      <td>Ping An Finance Center</td>\n",
       "      <td>Shenzhen</td>\n",
       "      <td>2017</td>\n",
       "      <td>599.1 m</td>\n",
       "      <td>115.0</td>\n",
       "      <td>composite</td>\n",
       "      <td>office</td>\n",
       "    </tr>\n",
       "    <tr>\n",
       "      <th>4</th>\n",
       "      <td>5</td>\n",
       "      <td>Lotte World Tower</td>\n",
       "      <td>Seoul</td>\n",
       "      <td>2017</td>\n",
       "      <td>554.5 m</td>\n",
       "      <td>123.0</td>\n",
       "      <td>composite</td>\n",
       "      <td>hotel / residential / office / retail</td>\n",
       "    </tr>\n",
       "    <tr>\n",
       "      <th>...</th>\n",
       "      <td>...</td>\n",
       "      <td>...</td>\n",
       "      <td>...</td>\n",
       "      <td>...</td>\n",
       "      <td>...</td>\n",
       "      <td>...</td>\n",
       "      <td>...</td>\n",
       "      <td>...</td>\n",
       "    </tr>\n",
       "    <tr>\n",
       "      <th>95</th>\n",
       "      <td>95</td>\n",
       "      <td>Jinan Center Financial City A5-3</td>\n",
       "      <td>Jinan</td>\n",
       "      <td>2020</td>\n",
       "      <td>333 m</td>\n",
       "      <td>69.0</td>\n",
       "      <td>composite</td>\n",
       "      <td>hotel / office</td>\n",
       "    </tr>\n",
       "    <tr>\n",
       "      <th>96</th>\n",
       "      <td>97</td>\n",
       "      <td>The Address Residence - Fountain Views III</td>\n",
       "      <td>Dubai</td>\n",
       "      <td>2019</td>\n",
       "      <td>331.8 m</td>\n",
       "      <td>77.0</td>\n",
       "      <td>concrete</td>\n",
       "      <td>serviced apartments / hotel</td>\n",
       "    </tr>\n",
       "    <tr>\n",
       "      <th>97</th>\n",
       "      <td>98</td>\n",
       "      <td>Minsheng Bank Building</td>\n",
       "      <td>Wuhan</td>\n",
       "      <td>2008</td>\n",
       "      <td>331 m</td>\n",
       "      <td>68.0</td>\n",
       "      <td>steel</td>\n",
       "      <td>office</td>\n",
       "    </tr>\n",
       "    <tr>\n",
       "      <th>98</th>\n",
       "      <td>99</td>\n",
       "      <td>China World Tower</td>\n",
       "      <td>Beijing</td>\n",
       "      <td>2010</td>\n",
       "      <td>330 m</td>\n",
       "      <td>74.0</td>\n",
       "      <td>composite</td>\n",
       "      <td>hotel / office</td>\n",
       "    </tr>\n",
       "    <tr>\n",
       "      <th>99</th>\n",
       "      <td>99</td>\n",
       "      <td>Yuexiu Fortune Center Tower 1</td>\n",
       "      <td>Wuhan</td>\n",
       "      <td>2017</td>\n",
       "      <td>330 m</td>\n",
       "      <td>68.0</td>\n",
       "      <td>composite</td>\n",
       "      <td>office</td>\n",
       "    </tr>\n",
       "  </tbody>\n",
       "</table>\n",
       "<p>100 rows × 8 columns</p>\n",
       "</div>"
      ],
      "text/plain": [
       "    RANK                                        NAME      CITY  COMPLETION  \\\n",
       "0      1                                Burj Khalifa     Dubai        2010   \n",
       "1      2                              Shanghai Tower  Shanghai        2015   \n",
       "2      3                    Makkah Royal Clock Tower     Mecca        2012   \n",
       "3      4                      Ping An Finance Center  Shenzhen        2017   \n",
       "4      5                           Lotte World Tower     Seoul        2017   \n",
       "..   ...                                         ...       ...         ...   \n",
       "95    95            Jinan Center Financial City A5-3     Jinan        2020   \n",
       "96    97  The Address Residence - Fountain Views III     Dubai        2019   \n",
       "97    98                      Minsheng Bank Building     Wuhan        2008   \n",
       "98    99                           China World Tower   Beijing        2010   \n",
       "99    99               Yuexiu Fortune Center Tower 1     Wuhan        2017   \n",
       "\n",
       "     Meters  FLOORS        MATERIAL                               FUNCTION  \n",
       "0     828 m   163.0  steel/concrete           office / residential / hotel  \n",
       "1     632 m   128.0       composite                         hotel / office  \n",
       "2     601 m   120.0  steel/concrete                          other / hotel  \n",
       "3   599.1 m   115.0       composite                                 office  \n",
       "4   554.5 m   123.0       composite  hotel / residential / office / retail  \n",
       "..      ...     ...             ...                                    ...  \n",
       "95    333 m    69.0       composite                         hotel / office  \n",
       "96  331.8 m    77.0        concrete            serviced apartments / hotel  \n",
       "97    331 m    68.0           steel                                 office  \n",
       "98    330 m    74.0       composite                         hotel / office  \n",
       "99    330 m    68.0       composite                                 office  \n",
       "\n",
       "[100 rows x 8 columns]"
      ]
     },
     "execution_count": 63,
     "metadata": {},
     "output_type": "execute_result"
    }
   ],
   "source": [
    "df = pd.read_csv('skyscrapers_2021a.csv')\n",
    "df"
   ]
  },
  {
   "cell_type": "code",
   "execution_count": 64,
   "id": "9cc97e8a",
   "metadata": {},
   "outputs": [
    {
     "data": {
      "text/html": [
       "<div>\n",
       "<style scoped>\n",
       "    .dataframe tbody tr th:only-of-type {\n",
       "        vertical-align: middle;\n",
       "    }\n",
       "\n",
       "    .dataframe tbody tr th {\n",
       "        vertical-align: top;\n",
       "    }\n",
       "\n",
       "    .dataframe thead th {\n",
       "        text-align: right;\n",
       "    }\n",
       "</style>\n",
       "<table border=\"1\" class=\"dataframe\">\n",
       "  <thead>\n",
       "    <tr style=\"text-align: right;\">\n",
       "      <th></th>\n",
       "      <th>RANK</th>\n",
       "      <th>NAME</th>\n",
       "      <th>CITY</th>\n",
       "      <th>COMPLETION</th>\n",
       "      <th>Meters</th>\n",
       "      <th>FLOORS</th>\n",
       "      <th>MATERIAL</th>\n",
       "      <th>FUNCTION</th>\n",
       "    </tr>\n",
       "  </thead>\n",
       "  <tbody>\n",
       "    <tr>\n",
       "      <th>0</th>\n",
       "      <td>1</td>\n",
       "      <td>Burj Khalifa</td>\n",
       "      <td>Dubai</td>\n",
       "      <td>2010</td>\n",
       "      <td>828 m</td>\n",
       "      <td>163.0</td>\n",
       "      <td>steel/concrete</td>\n",
       "      <td>office / residential / hotel</td>\n",
       "    </tr>\n",
       "    <tr>\n",
       "      <th>1</th>\n",
       "      <td>2</td>\n",
       "      <td>Shanghai Tower</td>\n",
       "      <td>Shanghai</td>\n",
       "      <td>2015</td>\n",
       "      <td>632 m</td>\n",
       "      <td>128.0</td>\n",
       "      <td>composite</td>\n",
       "      <td>hotel / office</td>\n",
       "    </tr>\n",
       "    <tr>\n",
       "      <th>2</th>\n",
       "      <td>3</td>\n",
       "      <td>Makkah Royal Clock Tower</td>\n",
       "      <td>Mecca</td>\n",
       "      <td>2012</td>\n",
       "      <td>601 m</td>\n",
       "      <td>120.0</td>\n",
       "      <td>steel/concrete</td>\n",
       "      <td>other / hotel</td>\n",
       "    </tr>\n",
       "    <tr>\n",
       "      <th>3</th>\n",
       "      <td>4</td>\n",
       "      <td>Ping An Finance Center</td>\n",
       "      <td>Shenzhen</td>\n",
       "      <td>2017</td>\n",
       "      <td>599.1 m</td>\n",
       "      <td>115.0</td>\n",
       "      <td>composite</td>\n",
       "      <td>office</td>\n",
       "    </tr>\n",
       "    <tr>\n",
       "      <th>4</th>\n",
       "      <td>5</td>\n",
       "      <td>Lotte World Tower</td>\n",
       "      <td>Seoul</td>\n",
       "      <td>2017</td>\n",
       "      <td>554.5 m</td>\n",
       "      <td>123.0</td>\n",
       "      <td>composite</td>\n",
       "      <td>hotel / residential / office / retail</td>\n",
       "    </tr>\n",
       "  </tbody>\n",
       "</table>\n",
       "</div>"
      ],
      "text/plain": [
       "   RANK                      NAME      CITY  COMPLETION   Meters  FLOORS  \\\n",
       "0     1              Burj Khalifa     Dubai        2010    828 m   163.0   \n",
       "1     2            Shanghai Tower  Shanghai        2015    632 m   128.0   \n",
       "2     3  Makkah Royal Clock Tower     Mecca        2012    601 m   120.0   \n",
       "3     4    Ping An Finance Center  Shenzhen        2017  599.1 m   115.0   \n",
       "4     5         Lotte World Tower     Seoul        2017  554.5 m   123.0   \n",
       "\n",
       "         MATERIAL                               FUNCTION  \n",
       "0  steel/concrete           office / residential / hotel  \n",
       "1       composite                         hotel / office  \n",
       "2  steel/concrete                          other / hotel  \n",
       "3       composite                                 office  \n",
       "4       composite  hotel / residential / office / retail  "
      ]
     },
     "execution_count": 64,
     "metadata": {},
     "output_type": "execute_result"
    }
   ],
   "source": [
    "df.head()"
   ]
  },
  {
   "cell_type": "code",
   "execution_count": 65,
   "id": "25e41447",
   "metadata": {},
   "outputs": [
    {
     "data": {
      "text/html": [
       "<div>\n",
       "<style scoped>\n",
       "    .dataframe tbody tr th:only-of-type {\n",
       "        vertical-align: middle;\n",
       "    }\n",
       "\n",
       "    .dataframe tbody tr th {\n",
       "        vertical-align: top;\n",
       "    }\n",
       "\n",
       "    .dataframe thead th {\n",
       "        text-align: right;\n",
       "    }\n",
       "</style>\n",
       "<table border=\"1\" class=\"dataframe\">\n",
       "  <thead>\n",
       "    <tr style=\"text-align: right;\">\n",
       "      <th></th>\n",
       "      <th>RANK</th>\n",
       "      <th>NAME</th>\n",
       "      <th>CITY</th>\n",
       "      <th>COMPLETION</th>\n",
       "      <th>Meters</th>\n",
       "      <th>FLOORS</th>\n",
       "      <th>MATERIAL</th>\n",
       "      <th>FUNCTION</th>\n",
       "    </tr>\n",
       "  </thead>\n",
       "  <tbody>\n",
       "    <tr>\n",
       "      <th>0</th>\n",
       "      <td>1</td>\n",
       "      <td>Burj Khalifa</td>\n",
       "      <td>Dubai</td>\n",
       "      <td>2010</td>\n",
       "      <td>828 m</td>\n",
       "      <td>163.0</td>\n",
       "      <td>steel/concrete</td>\n",
       "      <td>office / residential / hotel</td>\n",
       "    </tr>\n",
       "    <tr>\n",
       "      <th>1</th>\n",
       "      <td>2</td>\n",
       "      <td>Shanghai Tower</td>\n",
       "      <td>Shanghai</td>\n",
       "      <td>2015</td>\n",
       "      <td>632 m</td>\n",
       "      <td>128.0</td>\n",
       "      <td>composite</td>\n",
       "      <td>hotel / office</td>\n",
       "    </tr>\n",
       "    <tr>\n",
       "      <th>2</th>\n",
       "      <td>3</td>\n",
       "      <td>Makkah Royal Clock Tower</td>\n",
       "      <td>Mecca</td>\n",
       "      <td>2012</td>\n",
       "      <td>601 m</td>\n",
       "      <td>120.0</td>\n",
       "      <td>steel/concrete</td>\n",
       "      <td>other / hotel</td>\n",
       "    </tr>\n",
       "    <tr>\n",
       "      <th>3</th>\n",
       "      <td>4</td>\n",
       "      <td>Ping An Finance Center</td>\n",
       "      <td>Shenzhen</td>\n",
       "      <td>2017</td>\n",
       "      <td>599.1 m</td>\n",
       "      <td>115.0</td>\n",
       "      <td>composite</td>\n",
       "      <td>office</td>\n",
       "    </tr>\n",
       "    <tr>\n",
       "      <th>4</th>\n",
       "      <td>5</td>\n",
       "      <td>Lotte World Tower</td>\n",
       "      <td>Seoul</td>\n",
       "      <td>2017</td>\n",
       "      <td>554.5 m</td>\n",
       "      <td>123.0</td>\n",
       "      <td>composite</td>\n",
       "      <td>hotel / residential / office / retail</td>\n",
       "    </tr>\n",
       "    <tr>\n",
       "      <th>5</th>\n",
       "      <td>6</td>\n",
       "      <td>One World Trade Center</td>\n",
       "      <td>New York City</td>\n",
       "      <td>2014</td>\n",
       "      <td>541.3 m</td>\n",
       "      <td>94.0</td>\n",
       "      <td>composite</td>\n",
       "      <td>office</td>\n",
       "    </tr>\n",
       "    <tr>\n",
       "      <th>6</th>\n",
       "      <td>7</td>\n",
       "      <td>Guangzhou CTF Finance Centre</td>\n",
       "      <td>Guangzhou</td>\n",
       "      <td>2016</td>\n",
       "      <td>530 m</td>\n",
       "      <td>111.0</td>\n",
       "      <td>composite</td>\n",
       "      <td>hotel / residential / office</td>\n",
       "    </tr>\n",
       "    <tr>\n",
       "      <th>7</th>\n",
       "      <td>7</td>\n",
       "      <td>Tianjin CTF Finance Centre</td>\n",
       "      <td>Tianjin</td>\n",
       "      <td>2019</td>\n",
       "      <td>530 m</td>\n",
       "      <td>97.0</td>\n",
       "      <td>composite</td>\n",
       "      <td>hotel / serviced apartments / office</td>\n",
       "    </tr>\n",
       "    <tr>\n",
       "      <th>8</th>\n",
       "      <td>9</td>\n",
       "      <td>CITIC Tower</td>\n",
       "      <td>Beijing</td>\n",
       "      <td>2018</td>\n",
       "      <td>527.7 m</td>\n",
       "      <td>109.0</td>\n",
       "      <td>composite</td>\n",
       "      <td>office</td>\n",
       "    </tr>\n",
       "    <tr>\n",
       "      <th>9</th>\n",
       "      <td>10</td>\n",
       "      <td>TAIPEI 101</td>\n",
       "      <td>Taipei</td>\n",
       "      <td>2004</td>\n",
       "      <td>508 m</td>\n",
       "      <td>101.0</td>\n",
       "      <td>composite</td>\n",
       "      <td>office</td>\n",
       "    </tr>\n",
       "  </tbody>\n",
       "</table>\n",
       "</div>"
      ],
      "text/plain": [
       "   RANK                          NAME           CITY  COMPLETION   Meters  \\\n",
       "0     1                  Burj Khalifa          Dubai        2010    828 m   \n",
       "1     2                Shanghai Tower       Shanghai        2015    632 m   \n",
       "2     3      Makkah Royal Clock Tower          Mecca        2012    601 m   \n",
       "3     4        Ping An Finance Center       Shenzhen        2017  599.1 m   \n",
       "4     5             Lotte World Tower          Seoul        2017  554.5 m   \n",
       "5     6        One World Trade Center  New York City        2014  541.3 m   \n",
       "6     7  Guangzhou CTF Finance Centre      Guangzhou        2016    530 m   \n",
       "7     7    Tianjin CTF Finance Centre        Tianjin        2019    530 m   \n",
       "8     9                   CITIC Tower        Beijing        2018  527.7 m   \n",
       "9    10                    TAIPEI 101         Taipei        2004    508 m   \n",
       "\n",
       "   FLOORS        MATERIAL                               FUNCTION  \n",
       "0   163.0  steel/concrete           office / residential / hotel  \n",
       "1   128.0       composite                         hotel / office  \n",
       "2   120.0  steel/concrete                          other / hotel  \n",
       "3   115.0       composite                                 office  \n",
       "4   123.0       composite  hotel / residential / office / retail  \n",
       "5    94.0       composite                                 office  \n",
       "6   111.0       composite           hotel / residential / office  \n",
       "7    97.0       composite   hotel / serviced apartments / office  \n",
       "8   109.0       composite                                 office  \n",
       "9   101.0       composite                                 office  "
      ]
     },
     "execution_count": 65,
     "metadata": {},
     "output_type": "execute_result"
    }
   ],
   "source": [
    "df.head(10)"
   ]
  },
  {
   "cell_type": "code",
   "execution_count": 66,
   "id": "2e1e5e00",
   "metadata": {},
   "outputs": [
    {
     "data": {
      "text/html": [
       "<div>\n",
       "<style scoped>\n",
       "    .dataframe tbody tr th:only-of-type {\n",
       "        vertical-align: middle;\n",
       "    }\n",
       "\n",
       "    .dataframe tbody tr th {\n",
       "        vertical-align: top;\n",
       "    }\n",
       "\n",
       "    .dataframe thead th {\n",
       "        text-align: right;\n",
       "    }\n",
       "</style>\n",
       "<table border=\"1\" class=\"dataframe\">\n",
       "  <thead>\n",
       "    <tr style=\"text-align: right;\">\n",
       "      <th></th>\n",
       "      <th>RANK</th>\n",
       "      <th>NAME</th>\n",
       "      <th>CITY</th>\n",
       "      <th>COMPLETION</th>\n",
       "      <th>Meters</th>\n",
       "      <th>FLOORS</th>\n",
       "      <th>MATERIAL</th>\n",
       "      <th>FUNCTION</th>\n",
       "    </tr>\n",
       "  </thead>\n",
       "  <tbody>\n",
       "    <tr>\n",
       "      <th>95</th>\n",
       "      <td>95</td>\n",
       "      <td>Jinan Center Financial City A5-3</td>\n",
       "      <td>Jinan</td>\n",
       "      <td>2020</td>\n",
       "      <td>333 m</td>\n",
       "      <td>69.0</td>\n",
       "      <td>composite</td>\n",
       "      <td>hotel / office</td>\n",
       "    </tr>\n",
       "    <tr>\n",
       "      <th>96</th>\n",
       "      <td>97</td>\n",
       "      <td>The Address Residence - Fountain Views III</td>\n",
       "      <td>Dubai</td>\n",
       "      <td>2019</td>\n",
       "      <td>331.8 m</td>\n",
       "      <td>77.0</td>\n",
       "      <td>concrete</td>\n",
       "      <td>serviced apartments / hotel</td>\n",
       "    </tr>\n",
       "    <tr>\n",
       "      <th>97</th>\n",
       "      <td>98</td>\n",
       "      <td>Minsheng Bank Building</td>\n",
       "      <td>Wuhan</td>\n",
       "      <td>2008</td>\n",
       "      <td>331 m</td>\n",
       "      <td>68.0</td>\n",
       "      <td>steel</td>\n",
       "      <td>office</td>\n",
       "    </tr>\n",
       "    <tr>\n",
       "      <th>98</th>\n",
       "      <td>99</td>\n",
       "      <td>China World Tower</td>\n",
       "      <td>Beijing</td>\n",
       "      <td>2010</td>\n",
       "      <td>330 m</td>\n",
       "      <td>74.0</td>\n",
       "      <td>composite</td>\n",
       "      <td>hotel / office</td>\n",
       "    </tr>\n",
       "    <tr>\n",
       "      <th>99</th>\n",
       "      <td>99</td>\n",
       "      <td>Yuexiu Fortune Center Tower 1</td>\n",
       "      <td>Wuhan</td>\n",
       "      <td>2017</td>\n",
       "      <td>330 m</td>\n",
       "      <td>68.0</td>\n",
       "      <td>composite</td>\n",
       "      <td>office</td>\n",
       "    </tr>\n",
       "  </tbody>\n",
       "</table>\n",
       "</div>"
      ],
      "text/plain": [
       "    RANK                                        NAME     CITY  COMPLETION  \\\n",
       "95    95            Jinan Center Financial City A5-3    Jinan        2020   \n",
       "96    97  The Address Residence - Fountain Views III    Dubai        2019   \n",
       "97    98                      Minsheng Bank Building    Wuhan        2008   \n",
       "98    99                           China World Tower  Beijing        2010   \n",
       "99    99               Yuexiu Fortune Center Tower 1    Wuhan        2017   \n",
       "\n",
       "     Meters  FLOORS   MATERIAL                     FUNCTION  \n",
       "95    333 m    69.0  composite               hotel / office  \n",
       "96  331.8 m    77.0   concrete  serviced apartments / hotel  \n",
       "97    331 m    68.0      steel                       office  \n",
       "98    330 m    74.0  composite               hotel / office  \n",
       "99    330 m    68.0  composite                       office  "
      ]
     },
     "execution_count": 66,
     "metadata": {},
     "output_type": "execute_result"
    }
   ],
   "source": [
    "df.tail()"
   ]
  },
  {
   "cell_type": "code",
   "execution_count": 67,
   "id": "2c8c433a",
   "metadata": {},
   "outputs": [
    {
     "data": {
      "text/plain": [
       "(100, 8)"
      ]
     },
     "execution_count": 67,
     "metadata": {},
     "output_type": "execute_result"
    }
   ],
   "source": [
    "df.shape"
   ]
  },
  {
   "cell_type": "code",
   "execution_count": 68,
   "id": "0af3473f",
   "metadata": {},
   "outputs": [
    {
     "data": {
      "text/plain": [
       "Index(['RANK', 'NAME', 'CITY', 'COMPLETION', 'Meters', 'FLOORS', 'MATERIAL',\n",
       "       'FUNCTION'],\n",
       "      dtype='object')"
      ]
     },
     "execution_count": 68,
     "metadata": {},
     "output_type": "execute_result"
    }
   ],
   "source": [
    "df.columns"
   ]
  },
  {
   "cell_type": "code",
   "execution_count": 70,
   "id": "02584b79",
   "metadata": {},
   "outputs": [
    {
     "name": "stdout",
     "output_type": "stream",
     "text": [
      "<class 'pandas.core.frame.DataFrame'>\n",
      "RangeIndex: 100 entries, 0 to 99\n",
      "Data columns (total 8 columns):\n",
      " #   Column      Non-Null Count  Dtype  \n",
      "---  ------      --------------  -----  \n",
      " 0   RANK        100 non-null    int64  \n",
      " 1   NAME        100 non-null    object \n",
      " 2   CITY        100 non-null    object \n",
      " 3   COMPLETION  100 non-null    int64  \n",
      " 4   Meters      100 non-null    object \n",
      " 5   FLOORS      99 non-null     float64\n",
      " 6   MATERIAL    100 non-null    object \n",
      " 7   FUNCTION    100 non-null    object \n",
      "dtypes: float64(1), int64(2), object(5)\n",
      "memory usage: 6.4+ KB\n"
     ]
    }
   ],
   "source": [
    "df.info()"
   ]
  },
  {
   "cell_type": "code",
   "execution_count": 73,
   "id": "5eb5f7c1",
   "metadata": {},
   "outputs": [
    {
     "data": {
      "text/plain": [
       "Dubai               16\n",
       "New York City        7\n",
       "Shenzhen             7\n",
       "Hong Kong            5\n",
       "Chicago              5\n",
       "Kuala Lumpur         4\n",
       "Moscow               4\n",
       "Guangzhou            4\n",
       "Shanghai             4\n",
       "Wuhan                4\n",
       "Busan                3\n",
       "Guiyang              3\n",
       "Chongqing            3\n",
       "Tianjin              3\n",
       "Changsha             2\n",
       "Nanning              2\n",
       "Beijing              2\n",
       "Dalian               2\n",
       "Abu Dhabi            2\n",
       "Nanjing              2\n",
       "Wuxi                 1\n",
       "Philadelphia         1\n",
       "Kunming              1\n",
       "Zhenjiang            1\n",
       "Zhuhai               1\n",
       "Kaohsiung            1\n",
       "Los Angeles          1\n",
       "Seoul                1\n",
       "Shenyang             1\n",
       "Kuwait City          1\n",
       "Suzhou               1\n",
       "Ho Chi Minh City     1\n",
       "St. Petersburg       1\n",
       "Mecca                1\n",
       "Taipei               1\n",
       "Jinan                1\n",
       "Name: CITY, dtype: int64"
      ]
     },
     "execution_count": 73,
     "metadata": {},
     "output_type": "execute_result"
    }
   ],
   "source": [
    "df['CITY'].value_counts()"
   ]
  },
  {
   "cell_type": "code",
   "execution_count": 74,
   "id": "48bc823b",
   "metadata": {},
   "outputs": [
    {
     "data": {
      "text/html": [
       "<div>\n",
       "<style scoped>\n",
       "    .dataframe tbody tr th:only-of-type {\n",
       "        vertical-align: middle;\n",
       "    }\n",
       "\n",
       "    .dataframe tbody tr th {\n",
       "        vertical-align: top;\n",
       "    }\n",
       "\n",
       "    .dataframe thead th {\n",
       "        text-align: right;\n",
       "    }\n",
       "</style>\n",
       "<table border=\"1\" class=\"dataframe\">\n",
       "  <thead>\n",
       "    <tr style=\"text-align: right;\">\n",
       "      <th></th>\n",
       "      <th>RANK</th>\n",
       "      <th>NAME</th>\n",
       "      <th>CITY</th>\n",
       "      <th>COMPLETION</th>\n",
       "      <th>Meters</th>\n",
       "      <th>FLOORS</th>\n",
       "      <th>MATERIAL</th>\n",
       "      <th>FUNCTION</th>\n",
       "    </tr>\n",
       "  </thead>\n",
       "  <tbody>\n",
       "    <tr>\n",
       "      <th>0</th>\n",
       "      <td>1</td>\n",
       "      <td>Burj Khalifa</td>\n",
       "      <td>Dubai</td>\n",
       "      <td>2010</td>\n",
       "      <td>828 m</td>\n",
       "      <td>163.0</td>\n",
       "      <td>steel/concrete</td>\n",
       "      <td>office / residential / hotel</td>\n",
       "    </tr>\n",
       "    <tr>\n",
       "      <th>1</th>\n",
       "      <td>2</td>\n",
       "      <td>Shanghai Tower</td>\n",
       "      <td>Shanghai</td>\n",
       "      <td>2015</td>\n",
       "      <td>632 m</td>\n",
       "      <td>128.0</td>\n",
       "      <td>composite</td>\n",
       "      <td>hotel / office</td>\n",
       "    </tr>\n",
       "    <tr>\n",
       "      <th>2</th>\n",
       "      <td>3</td>\n",
       "      <td>Makkah Royal Clock Tower</td>\n",
       "      <td>Mecca</td>\n",
       "      <td>2012</td>\n",
       "      <td>601 m</td>\n",
       "      <td>120.0</td>\n",
       "      <td>steel/concrete</td>\n",
       "      <td>other / hotel</td>\n",
       "    </tr>\n",
       "    <tr>\n",
       "      <th>3</th>\n",
       "      <td>4</td>\n",
       "      <td>Ping An Finance Center</td>\n",
       "      <td>Shenzhen</td>\n",
       "      <td>2017</td>\n",
       "      <td>599.1 m</td>\n",
       "      <td>115.0</td>\n",
       "      <td>composite</td>\n",
       "      <td>office</td>\n",
       "    </tr>\n",
       "    <tr>\n",
       "      <th>4</th>\n",
       "      <td>5</td>\n",
       "      <td>Lotte World Tower</td>\n",
       "      <td>Seoul</td>\n",
       "      <td>2017</td>\n",
       "      <td>554.5 m</td>\n",
       "      <td>123.0</td>\n",
       "      <td>composite</td>\n",
       "      <td>hotel / residential / office / retail</td>\n",
       "    </tr>\n",
       "  </tbody>\n",
       "</table>\n",
       "</div>"
      ],
      "text/plain": [
       "   RANK                      NAME      CITY  COMPLETION   Meters  FLOORS  \\\n",
       "0     1              Burj Khalifa     Dubai        2010    828 m   163.0   \n",
       "1     2            Shanghai Tower  Shanghai        2015    632 m   128.0   \n",
       "2     3  Makkah Royal Clock Tower     Mecca        2012    601 m   120.0   \n",
       "3     4    Ping An Finance Center  Shenzhen        2017  599.1 m   115.0   \n",
       "4     5         Lotte World Tower     Seoul        2017  554.5 m   123.0   \n",
       "\n",
       "         MATERIAL                               FUNCTION  \n",
       "0  steel/concrete           office / residential / hotel  \n",
       "1       composite                         hotel / office  \n",
       "2  steel/concrete                          other / hotel  \n",
       "3       composite                                 office  \n",
       "4       composite  hotel / residential / office / retail  "
      ]
     },
     "execution_count": 74,
     "metadata": {},
     "output_type": "execute_result"
    }
   ],
   "source": [
    "df.head()"
   ]
  },
  {
   "cell_type": "code",
   "execution_count": 77,
   "id": "3766954d",
   "metadata": {},
   "outputs": [
    {
     "data": {
      "text/plain": [
       "'composite'"
      ]
     },
     "execution_count": 77,
     "metadata": {},
     "output_type": "execute_result"
    }
   ],
   "source": [
    "df.iloc[3,6]"
   ]
  },
  {
   "cell_type": "code",
   "execution_count": 79,
   "id": "78352d73",
   "metadata": {},
   "outputs": [
    {
     "data": {
      "text/plain": [
       "(100, 8)"
      ]
     },
     "execution_count": 79,
     "metadata": {},
     "output_type": "execute_result"
    }
   ],
   "source": [
    "df.shape"
   ]
  },
  {
   "cell_type": "code",
   "execution_count": 82,
   "id": "96ff8835",
   "metadata": {},
   "outputs": [
    {
     "data": {
      "text/html": [
       "<div>\n",
       "<style scoped>\n",
       "    .dataframe tbody tr th:only-of-type {\n",
       "        vertical-align: middle;\n",
       "    }\n",
       "\n",
       "    .dataframe tbody tr th {\n",
       "        vertical-align: top;\n",
       "    }\n",
       "\n",
       "    .dataframe thead th {\n",
       "        text-align: right;\n",
       "    }\n",
       "</style>\n",
       "<table border=\"1\" class=\"dataframe\">\n",
       "  <thead>\n",
       "    <tr style=\"text-align: right;\">\n",
       "      <th></th>\n",
       "      <th>RANK</th>\n",
       "      <th>NAME</th>\n",
       "      <th>CITY</th>\n",
       "      <th>COMPLETION</th>\n",
       "    </tr>\n",
       "  </thead>\n",
       "  <tbody>\n",
       "    <tr>\n",
       "      <th>10</th>\n",
       "      <td>11</td>\n",
       "      <td>Shanghai World Financial Center</td>\n",
       "      <td>Shanghai</td>\n",
       "      <td>2008</td>\n",
       "    </tr>\n",
       "    <tr>\n",
       "      <th>11</th>\n",
       "      <td>12</td>\n",
       "      <td>International Commerce Centre</td>\n",
       "      <td>Hong Kong</td>\n",
       "      <td>2010</td>\n",
       "    </tr>\n",
       "    <tr>\n",
       "      <th>12</th>\n",
       "      <td>13</td>\n",
       "      <td>Central Park Tower</td>\n",
       "      <td>New York City</td>\n",
       "      <td>2020</td>\n",
       "    </tr>\n",
       "    <tr>\n",
       "      <th>13</th>\n",
       "      <td>14</td>\n",
       "      <td>Lakhta Center</td>\n",
       "      <td>St. Petersburg</td>\n",
       "      <td>2019</td>\n",
       "    </tr>\n",
       "    <tr>\n",
       "      <th>14</th>\n",
       "      <td>15</td>\n",
       "      <td>Vincom Landmark 81</td>\n",
       "      <td>Ho Chi Minh City</td>\n",
       "      <td>2018</td>\n",
       "    </tr>\n",
       "    <tr>\n",
       "      <th>15</th>\n",
       "      <td>16</td>\n",
       "      <td>Changsha IFS Tower T1</td>\n",
       "      <td>Changsha</td>\n",
       "      <td>2018</td>\n",
       "    </tr>\n",
       "    <tr>\n",
       "      <th>16</th>\n",
       "      <td>17</td>\n",
       "      <td>Petronas Twin Tower 1</td>\n",
       "      <td>Kuala Lumpur</td>\n",
       "      <td>1998</td>\n",
       "    </tr>\n",
       "    <tr>\n",
       "      <th>17</th>\n",
       "      <td>17</td>\n",
       "      <td>Petronas Twin Tower 2</td>\n",
       "      <td>Kuala Lumpur</td>\n",
       "      <td>1998</td>\n",
       "    </tr>\n",
       "    <tr>\n",
       "      <th>18</th>\n",
       "      <td>19</td>\n",
       "      <td>Suzhou IFS</td>\n",
       "      <td>Suzhou</td>\n",
       "      <td>2019</td>\n",
       "    </tr>\n",
       "    <tr>\n",
       "      <th>19</th>\n",
       "      <td>19</td>\n",
       "      <td>Zifeng Tower</td>\n",
       "      <td>Nanjing</td>\n",
       "      <td>2010</td>\n",
       "    </tr>\n",
       "    <tr>\n",
       "      <th>20</th>\n",
       "      <td>21</td>\n",
       "      <td>The Exchange 106</td>\n",
       "      <td>Kuala Lumpur</td>\n",
       "      <td>2019</td>\n",
       "    </tr>\n",
       "  </tbody>\n",
       "</table>\n",
       "</div>"
      ],
      "text/plain": [
       "    RANK                             NAME              CITY  COMPLETION\n",
       "10    11  Shanghai World Financial Center          Shanghai        2008\n",
       "11    12    International Commerce Centre         Hong Kong        2010\n",
       "12    13               Central Park Tower     New York City        2020\n",
       "13    14                    Lakhta Center    St. Petersburg        2019\n",
       "14    15               Vincom Landmark 81  Ho Chi Minh City        2018\n",
       "15    16            Changsha IFS Tower T1          Changsha        2018\n",
       "16    17            Petronas Twin Tower 1      Kuala Lumpur        1998\n",
       "17    17            Petronas Twin Tower 2      Kuala Lumpur        1998\n",
       "18    19                       Suzhou IFS            Suzhou        2019\n",
       "19    19                     Zifeng Tower           Nanjing        2010\n",
       "20    21                 The Exchange 106      Kuala Lumpur        2019"
      ]
     },
     "execution_count": 82,
     "metadata": {},
     "output_type": "execute_result"
    }
   ],
   "source": [
    "df.iloc[10:21,0:4]"
   ]
  },
  {
   "cell_type": "code",
   "execution_count": 84,
   "id": "797138dc",
   "metadata": {},
   "outputs": [
    {
     "data": {
      "text/html": [
       "<div>\n",
       "<style scoped>\n",
       "    .dataframe tbody tr th:only-of-type {\n",
       "        vertical-align: middle;\n",
       "    }\n",
       "\n",
       "    .dataframe tbody tr th {\n",
       "        vertical-align: top;\n",
       "    }\n",
       "\n",
       "    .dataframe thead th {\n",
       "        text-align: right;\n",
       "    }\n",
       "</style>\n",
       "<table border=\"1\" class=\"dataframe\">\n",
       "  <thead>\n",
       "    <tr style=\"text-align: right;\">\n",
       "      <th></th>\n",
       "      <th>RANK</th>\n",
       "      <th>NAME</th>\n",
       "      <th>CITY</th>\n",
       "      <th>COMPLETION</th>\n",
       "    </tr>\n",
       "  </thead>\n",
       "  <tbody>\n",
       "    <tr>\n",
       "      <th>7</th>\n",
       "      <td>7</td>\n",
       "      <td>Tianjin CTF Finance Centre</td>\n",
       "      <td>Tianjin</td>\n",
       "      <td>2019</td>\n",
       "    </tr>\n",
       "    <tr>\n",
       "      <th>8</th>\n",
       "      <td>9</td>\n",
       "      <td>CITIC Tower</td>\n",
       "      <td>Beijing</td>\n",
       "      <td>2018</td>\n",
       "    </tr>\n",
       "    <tr>\n",
       "      <th>21</th>\n",
       "      <td>22</td>\n",
       "      <td>Wuhan Center Tower</td>\n",
       "      <td>Wuhan</td>\n",
       "      <td>2019</td>\n",
       "    </tr>\n",
       "    <tr>\n",
       "      <th>99</th>\n",
       "      <td>99</td>\n",
       "      <td>Yuexiu Fortune Center Tower 1</td>\n",
       "      <td>Wuhan</td>\n",
       "      <td>2017</td>\n",
       "    </tr>\n",
       "    <tr>\n",
       "      <th>1</th>\n",
       "      <td>2</td>\n",
       "      <td>Shanghai Tower</td>\n",
       "      <td>Shanghai</td>\n",
       "      <td>2015</td>\n",
       "    </tr>\n",
       "  </tbody>\n",
       "</table>\n",
       "</div>"
      ],
      "text/plain": [
       "    RANK                           NAME      CITY  COMPLETION\n",
       "7      7     Tianjin CTF Finance Centre   Tianjin        2019\n",
       "8      9                    CITIC Tower   Beijing        2018\n",
       "21    22             Wuhan Center Tower     Wuhan        2019\n",
       "99    99  Yuexiu Fortune Center Tower 1     Wuhan        2017\n",
       "1      2                 Shanghai Tower  Shanghai        2015"
      ]
     },
     "execution_count": 84,
     "metadata": {},
     "output_type": "execute_result"
    }
   ],
   "source": [
    "df.iloc[[7,8,21,99,1],0:4]"
   ]
  },
  {
   "cell_type": "code",
   "execution_count": null,
   "id": "15ed547e",
   "metadata": {},
   "outputs": [],
   "source": []
  }
 ],
 "metadata": {
  "kernelspec": {
   "display_name": "Python 3 (ipykernel)",
   "language": "python",
   "name": "python3"
  },
  "language_info": {
   "codemirror_mode": {
    "name": "ipython",
    "version": 3
   },
   "file_extension": ".py",
   "mimetype": "text/x-python",
   "name": "python",
   "nbconvert_exporter": "python",
   "pygments_lexer": "ipython3",
   "version": "3.9.13"
  }
 },
 "nbformat": 4,
 "nbformat_minor": 5
}
